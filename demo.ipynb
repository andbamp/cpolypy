{
 "cells": [
  {
   "cell_type": "markdown",
   "metadata": {},
   "source": [
    "# cpolypy: Simple methods for handling convex polygons\n",
    "\n",
    "## Abstract\n",
    "The goal of this project was building a software library on Python for handling convex polygons. A simple `cpolypy` library was developed based on the specifications. It is hosted on [GitHub](https://github.com/andbamp/cpolypy).\n",
    "\n",
    "## Setup\n",
    "The library can be installed as follows. More detailed instructions can be found on the GitHub repository.\n",
    "\n",
    "```bash\n",
    "python setup.py bdist_wheel\n",
    "pip install -e .\n",
    "```\n",
    "\n",
    "- To import `cpolypy`:"
   ]
  },
  {
   "cell_type": "code",
   "execution_count": null,
   "metadata": {},
   "outputs": [],
   "source": [
    "import cpolypy as cp"
   ]
  },
  {
   "cell_type": "markdown",
   "metadata": {},
   "source": [
    "- `numpy` is also required, as the NumPy array data structure is used to signify 2D points."
   ]
  },
  {
   "cell_type": "code",
   "execution_count": null,
   "metadata": {},
   "outputs": [],
   "source": [
    "import numpy as np"
   ]
  },
  {
   "cell_type": "markdown",
   "metadata": {},
   "source": [
    "- Finally, `matplotlib` is used for the purpose of this report to visualize the library's outputs and `time` is used for time measurements."
   ]
  },
  {
   "cell_type": "code",
   "execution_count": null,
   "metadata": {},
   "outputs": [],
   "source": [
    "import matplotlib.pyplot as plt\n",
    "import time"
   ]
  },
  {
   "cell_type": "markdown",
   "metadata": {},
   "source": [
    "## Usage examples\n",
    "### Finding the convex hull from points\n",
    "#### Introduction"
   ]
  },
  {
   "cell_type": "markdown",
   "metadata": {},
   "source": [
    "- The _Graham's scan_ algorithm was implemented. Data structures and linear algebra operations from the `numpy` were used, with the NumPy array serving as the data structure used to signify two-dimensional points. Implementation sensibilities related to vectorization were taken into account.\n",
    "- A simple demonstration calculating the convex hull of point cloud composed of 100 points follows."
   ]
  },
  {
   "cell_type": "code",
   "execution_count": null,
   "metadata": {},
   "outputs": [],
   "source": [
    "point_cloud = np.random.rand(100, 2)\n",
    "chull = cp.convex_hull_from_points(point_cloud)"
   ]
  },
  {
   "cell_type": "markdown",
   "metadata": {},
   "source": [
    "- The following graph displays the points along with the convex polygon formed by them."
   ]
  },
  {
   "cell_type": "code",
   "execution_count": null,
   "metadata": {},
   "outputs": [],
   "source": [
    "def draw_cloud(points, axis, size = 1, color = None, lab = \"Points\"):\n",
    "  axis.scatter(points[:,0], points[:,1], s = size, c = color, label = lab)\n",
    "\n",
    "def draw_chull(chull, axis, style = '-', lab = \"Convex hull\"):\n",
    "  vertices = np.vstack((chull.vertices, chull.vertices[0]))\n",
    "  axis.plot(vertices[:,0], vertices[:,1], style, label = lab)\n",
    "\n",
    "def draw_plot(x_lab, y_lab, title):\n",
    "  plt.xlabel(x_lab)\n",
    "  plt.ylabel(y_lab)\n",
    "  plt.title(title)\n",
    "  plt.legend(loc = \"lower right\")\n",
    "  plt.show()\n",
    "\n",
    "draw_cloud(point_cloud, plt, 10)\n",
    "draw_chull(chull, plt, 'r')\n",
    "draw_plot(\"x\", \"y\", \"Convex hull of a random point cloud\")"
   ]
  },
  {
   "cell_type": "markdown",
   "metadata": {},
   "source": [
    "#### Usage examples"
   ]
  },
  {
   "cell_type": "code",
   "execution_count": null,
   "metadata": {},
   "outputs": [],
   "source": [
    "def rand_triangle(num_points, size = 1, center = [0,0]):\n",
    "  vert = np.random.rand(3,2)\n",
    "  x, y = 2 * size * np.random.rand(num_points), 2 * size * np.random.rand(num_points)\n",
    "  q = np.abs(x - y)\n",
    "  s, t, u = q, 0.5 * (x + y - q), 1 - 0.5 * (x + y + q)\n",
    "  points = np.empty([num_points,2])\n",
    "  points[:,0] = s * vert[0,0] + t * vert[1,0] + u * vert[2,0]\n",
    "  points[:,1] = s * vert[0,1] + t * vert[1,1] + u * vert[2,1]\n",
    "  return(points + center)\n",
    "\n",
    "def rand_circle(num_points, size = 1, center = [0,0]):\n",
    "  theta = 2*np.pi * np.random.rand(num_points)\n",
    "  dist = size * np.sqrt(np.random.rand(num_points))\n",
    "  points = np.empty([num_points,2])\n",
    "  points[:,0] = dist * np.cos(theta)\n",
    "  points[:,1] = dist * np.sin(theta)\n",
    "  return(points + center)\n",
    "\n",
    "def rand_cloud(num_points, num_circles = 1, num_triangles = 1):\n",
    "  num_points = int(num_points / (num_circles + num_triangles))\n",
    "  points = np.empty([0,2])\n",
    "  for i in range(num_circles):\n",
    "    rand_size = np.random.randint(1,5)\n",
    "    rand_center = (10 * np.random.rand(1,2)).tolist()[0]\n",
    "    points = np.vstack([points, rand_circle(num_points, rand_size, rand_center)])\n",
    "  for i in range(num_triangles):\n",
    "    rand_size = np.random.randint(1,10)\n",
    "    rand_center = (10 * np.random.rand(1,2)).tolist()[0]\n",
    "    points = np.vstack([points, rand_triangle(num_points, rand_size, rand_center)])\n",
    "  return(points)"
   ]
  },
  {
   "cell_type": "markdown",
   "metadata": {},
   "source": [
    "- Using `numpy` 9 different random point cloud settings will be created to test the library.\n",
    "- Each one is displayed on the graph bellow."
   ]
  },
  {
   "cell_type": "code",
   "execution_count": null,
   "metadata": {},
   "outputs": [],
   "source": [
    "point_clouds = [[],[],[]]\n",
    "point_clouds[0].append(rand_cloud(1000, 0, 10))\n",
    "point_clouds[0].append(rand_cloud(1000, 10, 0))\n",
    "point_clouds[0].append(rand_cloud(1000, 5, 5))\n",
    "point_clouds[1].append(rand_cloud(10000, 0, 10))\n",
    "point_clouds[1].append(rand_cloud(10000, 10, 0))\n",
    "point_clouds[1].append(rand_cloud(10000, 5, 5))\n",
    "point_clouds[2].append(rand_cloud(100000, 0, 10))\n",
    "point_clouds[2].append(rand_cloud(100000, 10, 0))\n",
    "point_clouds[2].append(rand_cloud(100000, 5, 5))\n",
    "\n",
    "figure, axis = plt.subplots(3, 3)\n",
    "for i in range(len(point_clouds)):\n",
    "  for j in range(len(point_clouds[i])):\n",
    "    draw_cloud(point_clouds[i][j], axis[i,j])\n",
    "plt.suptitle(\"Random point clouds\")\n",
    "plt.show()"
   ]
  },
  {
   "cell_type": "markdown",
   "metadata": {},
   "source": [
    "- Random point clouds within triangles, circles and triangle/circle combinations are displayed on each column respectively.\n",
    "- The number of points and shapes of each point cloud increase accordingly by row, with the first one having 1,000, the second 10,000 and the third one 100,000.\n",
    "- The convex hull of each point cloud will be calculated."
   ]
  },
  {
   "cell_type": "code",
   "execution_count": null,
   "metadata": {},
   "outputs": [],
   "source": [
    "chulls = [[], [], []]\n",
    "chull_res = [[], [], 3*[*['triangles', 'circles', 'combination']]]\n",
    "for i in range(len(point_clouds)):\n",
    "  for j in range(len(point_clouds[i])):\n",
    "    chulls[i].append(cp.convex_hull_from_points(point_clouds[i][j]))\n",
    "\n",
    "figure, axis = plt.subplots(3, 3)\n",
    "for i in range(len(point_clouds)):\n",
    "  for j in range(len(point_clouds[i])):\n",
    "    draw_cloud(point_clouds[i][j], axis[i,j])\n",
    "    draw_chull(chulls[i][j], axis[i,j], 'r')\n",
    "plt.suptitle(\"Convex hull of random point clouds\")\n",
    "plt.show()"
   ]
  },
  {
   "cell_type": "markdown",
   "metadata": {},
   "source": [
    "#### Time measurements\n",
    "- A rough estimation of the performance of the implementation follows."
   ]
  },
  {
   "cell_type": "code",
   "execution_count": null,
   "metadata": {},
   "outputs": [],
   "source": [
    "timing_res = np.empty([25, 2])\n",
    "for i in range(timing_res.shape[0]):\n",
    "  num_points = 2000 * (i + 1)\n",
    "  points = rand_circle(num_points)\n",
    "  start = time.time()\n",
    "  cp.convex_hull_from_points(points)\n",
    "  stop = time.time() - start\n",
    "  timing_res[i,0] = num_points\n",
    "  timing_res[i,1] = stop\n",
    "\n",
    "plt.scatter(timing_res[:,0], timing_res[:,1], label = \"Measurement\")\n",
    "plt.plot(timing_res[:,0], timing_res[:,1])\n",
    "draw_plot(\"N\", \"time (s)\", \"Time complexity for convex hull calculation of N points\")"
   ]
  },
  {
   "cell_type": "markdown",
   "metadata": {},
   "source": [
    "- The time complexity of the implementation appears to be nearly linear. More formal testing for larger number of operations may indicate it to be $ O(n log(n)) $, which is consistent with the literature with respect to convex hull calculation via the _Graham's scan_ algorithm."
   ]
  },
  {
   "cell_type": "markdown",
   "metadata": {},
   "source": [
    "### Point in convex polygon\n",
    "#### Introduction\n",
    "- Point inclusion in a convex polygon is tested via a simple counterclockwise turn test. Note that the specifications imply a simple single-input-single-output, so no vectorization of the implementation was considered.\n",
    "- A simple demonstration for a few points follows."
   ]
  },
  {
   "cell_type": "code",
   "execution_count": null,
   "metadata": {},
   "outputs": [],
   "source": [
    "cpoly = cp.Polygon(np.array([[-1,-2], [1,-1], [0,2], [-2, -1]]))\n",
    "points = np.array([[0, 0.5], [3, 1], [-1, -1], [1, 2]])\n",
    "points_in = []\n",
    "points_out = []\n",
    "for point in points:\n",
    "  pip = cp.point_is_in_polygon(point, cpoly)\n",
    "  if(pip): points_in.append(point)\n",
    "  else: points_out.append(point)\n",
    "points_in = np.array(points_in)\n",
    "points_out = np.array(points_out)"
   ]
  },
  {
   "cell_type": "code",
   "execution_count": null,
   "metadata": {},
   "outputs": [],
   "source": [
    "draw_chull(cpoly, plt, lab = \"Convex polygon\")\n",
    "draw_cloud(points_in, plt, 100, 'g', \"Point inside\")\n",
    "draw_cloud(points_out, plt, 100, 'r', \"Point outside\")\n",
    "draw_plot(\"x\", \"y\", \"Points in and out of convex polygon\")"
   ]
  },
  {
   "cell_type": "markdown",
   "metadata": {},
   "source": [
    "- Points inside the convex polygon are marked green, while the rest are red."
   ]
  },
  {
   "cell_type": "markdown",
   "metadata": {},
   "source": [
    "#### Usage examples"
   ]
  },
  {
   "cell_type": "code",
   "execution_count": null,
   "metadata": {},
   "outputs": [],
   "source": [
    "def points_in_polygon(points, cpoly):\n",
    "  points_in = []\n",
    "  points_out = []\n",
    "  for point in points:\n",
    "    pip = cp.point_is_in_polygon(point, cpoly)\n",
    "    if(pip): points_in.append(point)\n",
    "    else: points_out.append(point)\n",
    "  return(np.array(points_in), np.array(points_out))\n",
    "\n",
    "cpoly = cp.Polygon(np.array([[4,0], [5,2], [2,6], [1,1]]))\n",
    "point_clouds = [rand_cloud(10000, 100, 100), rand_cloud(1000), rand_cloud(1000, 10, 10)]\n",
    "points_in_clouds = []\n",
    "points_out_clouds = []\n",
    "for points in point_clouds:\n",
    "    points_in, points_out = points_in_polygon(points, cpoly)\n",
    "    points_in_clouds.append(points_in)\n",
    "    points_out_clouds.append(points_out)"
   ]
  },
  {
   "cell_type": "markdown",
   "metadata": {},
   "source": [
    "- Once again, the implementation is tested under a few different point cloud settings."
   ]
  },
  {
   "cell_type": "code",
   "execution_count": null,
   "metadata": {},
   "outputs": [],
   "source": [
    "figure, axis = plt.subplots(1, 3)\n",
    "for i in range(len(point_clouds)):\n",
    "  draw_chull(cpoly, axis[i], lab = \"Convex polygon\")\n",
    "  if(points_in_clouds[i].shape[0] > 0): draw_cloud(points_in_clouds[i], axis[i], 2, 'g', \"Point inside\")\n",
    "  if(points_out_clouds[i].shape[0] > 0): draw_cloud(points_out_clouds[i], axis[i], 1, 'r', \"Point outside\")\n",
    "plt.suptitle(\"Points in and out of convex polygon\")\n",
    "plt.show()"
   ]
  },
  {
   "cell_type": "markdown",
   "metadata": {},
   "source": [
    "### Polygon intersection\n",
    "#### Introduction\n",
    "- Polygon intersection based on the separating axis theorem was implemented.\n",
    "- A simple demonstration follows."
   ]
  },
  {
   "cell_type": "code",
   "execution_count": null,
   "metadata": {},
   "outputs": [],
   "source": [
    "cpoly_1 = cp.Polygon(np.array([[4,0], [5,2], [2,6], [1,1]]))\n",
    "cpoly_2 = cp.Polygon(np.array([[5.5,1], [6,4], [5,5], [4,2]]))\n",
    "cpoly_3 = cp.Polygon(np.array([[5.5,11], [6,14], [5,15], [4,12]]))\n",
    "intersection_12 = cp.do_intersect(cpoly_1, cpoly_2)\n",
    "intersection_13 = cp.do_intersect(cpoly_1, cpoly_3)"
   ]
  },
  {
   "cell_type": "code",
   "execution_count": null,
   "metadata": {},
   "outputs": [],
   "source": [
    "color_intersection = {True : \"g\", False : \"r\"}\n",
    "figure, axis = plt.subplots(1, 2)\n",
    "draw_chull(cpoly_1, axis[0], color_intersection[intersection_12])\n",
    "draw_chull(cpoly_2, axis[0], color_intersection[intersection_12])\n",
    "draw_chull(cpoly_1, axis[1], color_intersection[intersection_13])\n",
    "draw_chull(cpoly_3, axis[1], color_intersection[intersection_13])\n",
    "plt.suptitle(\"Convex polygon intersection\")\n",
    "plt.show()"
   ]
  },
  {
   "cell_type": "markdown",
   "metadata": {},
   "source": [
    "- A green outline indicates intersection, while a red one indicates lack of intersection."
   ]
  },
  {
   "cell_type": "markdown",
   "metadata": {},
   "source": [
    "#### Usage examples"
   ]
  },
  {
   "cell_type": "code",
   "execution_count": null,
   "metadata": {},
   "outputs": [],
   "source": [
    "convex_pairs = []\n",
    "num_pairs = 5\n",
    "intersection = np.empty([num_pairs, num_pairs], bool)\n",
    "for i in range(num_pairs):\n",
    "  convex_pairs.append([])\n",
    "  for j in range(num_pairs):\n",
    "    cpoly_1 = cp.convex_hull_from_points(rand_cloud(1000, 0, np.random.randint(1,5)))\n",
    "    cpoly_2 = cp.convex_hull_from_points(rand_cloud(1000, 0, np.random.randint(1,5)))\n",
    "    intersection[i,j] = cp.do_intersect(cpoly_1, cpoly_2)\n",
    "    convex_pairs[i].append([cpoly_1, cpoly_2])"
   ]
  },
  {
   "cell_type": "markdown",
   "metadata": {},
   "source": [
    "- The implementation is tested for a number of random convex polygons."
   ]
  },
  {
   "cell_type": "code",
   "execution_count": null,
   "metadata": {},
   "outputs": [],
   "source": [
    "figure, axis = plt.subplots(num_pairs, num_pairs)\n",
    "for i in range(num_pairs):\n",
    "  for j in range(num_pairs):\n",
    "    draw_chull(convex_pairs[i][j][0], axis[i][j], color_intersection[intersection[i][j]])\n",
    "    draw_chull(convex_pairs[i][j][1], axis[i][j], color_intersection[intersection[i][j]])\n",
    "plt.suptitle(\"Convex polygon intersection\")\n",
    "plt.show()"
   ]
  },
  {
   "cell_type": "markdown",
   "metadata": {},
   "source": [
    "## References"
   ]
  },
  {
   "cell_type": "markdown",
   "metadata": {},
   "source": [
    "- Graham, R.L. (1972). \"An Efficient Algorithm for Determining the Convex Hull of a Finite Planar Set\". _Information Processing Letters. 1 (4): 132–133._ [doi:10.1016/0020-0190(72)90045-2](https://www.sciencedirect.com/science/article/abs/pii/0020019072900452?via%3Dihub)\n",
    "- [Hyperplane separation theorem](https://en.wikipedia.org/wiki/Hyperplane_separation_theorem)."
   ]
  }
 ],
 "metadata": {
  "kernelspec": {
   "display_name": "Python 3",
   "language": "python",
   "name": "python3"
  },
  "language_info": {
   "codemirror_mode": {
    "name": "ipython",
    "version": 3
   },
   "file_extension": ".py",
   "mimetype": "text/x-python",
   "name": "python",
   "nbconvert_exporter": "python",
   "pygments_lexer": "ipython3",
   "version": "3.7.5"
  }
 },
 "nbformat": 4,
 "nbformat_minor": 4
}
